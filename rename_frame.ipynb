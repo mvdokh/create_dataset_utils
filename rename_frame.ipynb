{
 "cells": [
  {
   "cell_type": "code",
   "execution_count": 7,
   "id": "666330ca",
   "metadata": {},
   "outputs": [
    {
     "name": "stdout",
     "output_type": "stream",
     "text": [
      "Write result: {'rows': 580, 'images_found': 580, 'written': True, 'output_path': 'C:\\\\Users\\\\wanglab\\\\Desktop\\\\Mask+Jaw\\\\TL0042 corrections 20250915\\\\labels\\\\jaw\\\\jaw.csv', 'error': None}\n"
     ]
    }
   ],
   "source": [
    "from utils import replace_frame_numbers_with_image_names\n",
    "\n",
    "\n",
    "jaw_csv = r\"C:\\Users\\wanglab\\Desktop\\Mask+Jaw\\TL0042 corrections 20250915\\labels\\jaw\\jaw.csv\"\n",
    "tongue_folder = r\"C:\\Users\\wanglab\\Desktop\\Mask+Jaw\\TL0042 corrections 20250915\\labels\\tongue\"\n",
    "\n",
    "res_write = replace_frame_numbers_with_image_names(jaw_csv, tongue_folder, dry_run=False)\n",
    "print('Write result:', res_write)"
   ]
  }
 ],
 "metadata": {
  "kernelspec": {
   "display_name": "base",
   "language": "python",
   "name": "python3"
  },
  "language_info": {
   "codemirror_mode": {
    "name": "ipython",
    "version": 3
   },
   "file_extension": ".py",
   "mimetype": "text/x-python",
   "name": "python",
   "nbconvert_exporter": "python",
   "pygments_lexer": "ipython3",
   "version": "3.11.5"
  }
 },
 "nbformat": 4,
 "nbformat_minor": 5
}

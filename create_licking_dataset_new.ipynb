{
 "cells": [
  {
   "cell_type": "code",
   "execution_count": 1,
   "id": "initial_id",
   "metadata": {
    "ExecuteTime": {
     "end_time": "2024-07-24T15:43:54.418540Z",
     "start_time": "2024-07-24T15:43:54.414492Z"
    },
    "collapsed": true
   },
   "outputs": [
    {
     "name": "stderr",
     "output_type": "stream",
     "text": [
      "2025-07-23 12:54:23.183689: E external/local_xla/xla/stream_executor/cuda/cuda_fft.cc:467] Unable to register cuFFT factory: Attempting to register factory for plugin cuFFT when one has already been registered\n",
      "WARNING: All log messages before absl::InitializeLog() is called are written to STDERR\n",
      "E0000 00:00:1753289663.202647  715344 cuda_dnn.cc:8579] Unable to register cuDNN factory: Attempting to register factory for plugin cuDNN when one has already been registered\n",
      "E0000 00:00:1753289663.208774  715344 cuda_blas.cc:1407] Unable to register cuBLAS factory: Attempting to register factory for plugin cuBLAS when one has already been registered\n",
      "W0000 00:00:1753289663.224866  715344 computation_placer.cc:177] computation placer already registered. Please check linkage and avoid linking the same target more than once.\n",
      "W0000 00:00:1753289663.224896  715344 computation_placer.cc:177] computation placer already registered. Please check linkage and avoid linking the same target more than once.\n",
      "W0000 00:00:1753289663.224898  715344 computation_placer.cc:177] computation placer already registered. Please check linkage and avoid linking the same target more than once.\n",
      "W0000 00:00:1753289663.224900  715344 computation_placer.cc:177] computation placer already registered. Please check linkage and avoid linking the same target more than once.\n",
      "2025-07-23 12:54:23.230307: I tensorflow/core/platform/cpu_feature_guard.cc:210] This TensorFlow binary is optimized to use available CPU instructions in performance-critical operations.\n",
      "To enable the following instructions: AVX2 FMA, in other operations, rebuild TensorFlow with the appropriate compiler flags.\n"
     ]
    }
   ],
   "source": [
    "import csv\n",
    "import random\n",
    "\n",
    "import os\n",
    "import pickle\n",
    "import sys\n",
    "\n",
    "import numpy as np\n",
    "from tqdm import tqdm\n",
    "\n",
    "import cv2\n",
    "\n",
    "sys.path.append('../..')\n",
    "from utils import plotting\n",
    "from utils import image_manip"
   ]
  },
  {
   "cell_type": "code",
   "execution_count": 2,
   "id": "5acc185f6bc5db3c",
   "metadata": {
    "ExecuteTime": {
     "end_time": "2024-07-24T15:43:55.050884Z",
     "start_time": "2024-07-24T15:43:55.047143Z"
    }
   },
   "outputs": [],
   "source": [
    "data_folder = '/mnt/c/Users/wanglab/Desktop/Mask+Jaw/'\n",
    "output_folder = '/mnt/c/Users/wanglab/Desktop/Mask+Jaw/'\n",
    "\n",
    "n_features = 2\n",
    "\n",
    "new_resolution = (256,256)\n",
    "\n",
    "validation_folders = []\n",
    "\n",
    "random_seed_value = 4 # For reproducibility\n",
    "\n",
    "train_split = 0.8"
   ]
  },
  {
   "cell_type": "code",
   "execution_count": null,
   "id": "bf793dc1",
   "metadata": {},
   "outputs": [
    {
     "name": "stderr",
     "output_type": "stream",
     "text": [
      "Loading:   0%|          | 0/51 [00:00<?, ?it/s]"
     ]
    },
    {
     "name": "stdout",
     "output_type": "stream",
     "text": [
      "Loading experiment folder: 10_bottom\n",
      "Found 29 images\n",
      "Old resolution: (480, 640)\n"
     ]
    },
    {
     "name": "stderr",
     "output_type": "stream",
     "text": [
      "Loading:   2%|1         | 1/51 [00:00<00:45,  1.10it/s]"
     ]
    },
    {
     "name": "stdout",
     "output_type": "stream",
     "text": [
      "Loading experiment folder: 10_side\n",
      "Found 38 images\n",
      "Old resolution: (480, 640)\n"
     ]
    },
    {
     "name": "stderr",
     "output_type": "stream",
     "text": [
      "Loading:   4%|3         | 2/51 [00:02<00:55,  1.13s/it]"
     ]
    },
    {
     "name": "stdout",
     "output_type": "stream",
     "text": [
      "Loading experiment folder: 11_bottom\n",
      "Found 20 images\n",
      "Old resolution: (480, 640)\n"
     ]
    },
    {
     "name": "stderr",
     "output_type": "stream",
     "text": [
      "Loading:   6%|5         | 3/51 [00:02<00:43,  1.10it/s]"
     ]
    },
    {
     "name": "stdout",
     "output_type": "stream",
     "text": [
      "Loading experiment folder: 11_side\n",
      "Found 46 images\n",
      "Old resolution: (480, 640)\n"
     ]
    },
    {
     "name": "stderr",
     "output_type": "stream",
     "text": [
      "Loading:   8%|7         | 4/51 [00:04<00:52,  1.13s/it]"
     ]
    },
    {
     "name": "stdout",
     "output_type": "stream",
     "text": [
      "Loading experiment folder: 12_bottom\n",
      "Found 21 images\n",
      "Old resolution: (480, 640)\n"
     ]
    },
    {
     "name": "stderr",
     "output_type": "stream",
     "text": [
      "Loading:  10%|9         | 5/51 [00:04<00:44,  1.03it/s]"
     ]
    },
    {
     "name": "stdout",
     "output_type": "stream",
     "text": [
      "Loading experiment folder: 12_side\n",
      "Found 57 images\n",
      "Old resolution: (480, 640)\n"
     ]
    },
    {
     "name": "stderr",
     "output_type": "stream",
     "text": [
      "Loading:  12%|#1        | 6/51 [00:06<00:58,  1.29s/it]"
     ]
    },
    {
     "name": "stdout",
     "output_type": "stream",
     "text": [
      "Loading experiment folder: 13_bottom\n",
      "Found 14 images\n"
     ]
    },
    {
     "name": "stderr",
     "output_type": "stream",
     "text": [
      "Loading:  14%|#3        | 7/51 [00:07<00:44,  1.02s/it]"
     ]
    },
    {
     "name": "stdout",
     "output_type": "stream",
     "text": [
      "Old resolution: (480, 640)\n",
      "Loading experiment folder: 13_side\n",
      "Found 66 images\n",
      "Old resolution: (480, 640)\n"
     ]
    },
    {
     "name": "stderr",
     "output_type": "stream",
     "text": [
      "Loading:  16%|#5        | 8/51 [00:09<00:59,  1.39s/it]"
     ]
    },
    {
     "name": "stdout",
     "output_type": "stream",
     "text": [
      "Loading experiment folder: 14_bottom\n",
      "Found 14 images\n"
     ]
    },
    {
     "name": "stderr",
     "output_type": "stream",
     "text": [
      "Loading:  18%|#7        | 9/51 [00:09<00:46,  1.10s/it]"
     ]
    },
    {
     "name": "stdout",
     "output_type": "stream",
     "text": [
      "Old resolution: (480, 640)\n",
      "Loading experiment folder: 14_side\n",
      "Found 30 images\n",
      "Old resolution: (480, 640)\n"
     ]
    },
    {
     "name": "stderr",
     "output_type": "stream",
     "text": [
      "Loading:  20%|#9        | 10/51 [00:10<00:42,  1.03s/it]"
     ]
    },
    {
     "name": "stdout",
     "output_type": "stream",
     "text": [
      "Loading experiment folder: 15_bottom\n",
      "Found 13 images\n"
     ]
    },
    {
     "name": "stderr",
     "output_type": "stream",
     "text": [
      "Loading:  22%|##1       | 11/51 [00:11<00:34,  1.18it/s]"
     ]
    },
    {
     "name": "stdout",
     "output_type": "stream",
     "text": [
      "Old resolution: (480, 640)\n",
      "Loading experiment folder: 15_side\n",
      "Found 24 images\n",
      "Old resolution: (480, 640)\n"
     ]
    },
    {
     "name": "stderr",
     "output_type": "stream",
     "text": [
      "Loading:  24%|##3       | 12/51 [00:12<00:31,  1.24it/s]"
     ]
    },
    {
     "name": "stdout",
     "output_type": "stream",
     "text": [
      "Loading experiment folder: 16_bottom\n",
      "Found 67 images\n",
      "Old resolution: (480, 640)\n"
     ]
    },
    {
     "name": "stderr",
     "output_type": "stream",
     "text": [
      "Loading:  25%|##5       | 13/51 [00:13<00:43,  1.14s/it]"
     ]
    },
    {
     "name": "stdout",
     "output_type": "stream",
     "text": [
      "Loading experiment folder: 16_side\n",
      "Found 55 images\n",
      "Old resolution: (480, 640)\n"
     ]
    },
    {
     "name": "stderr",
     "output_type": "stream",
     "text": [
      "Loading:  27%|##7       | 14/51 [00:15<00:49,  1.35s/it]"
     ]
    },
    {
     "name": "stdout",
     "output_type": "stream",
     "text": [
      "Loading experiment folder: 17_bottom\n",
      "Found 57 images\n"
     ]
    },
    {
     "name": "stderr",
     "output_type": "stream",
     "text": [
      "Loading:  29%|##9       | 15/51 [00:16<00:46,  1.30s/it]"
     ]
    },
    {
     "name": "stdout",
     "output_type": "stream",
     "text": [
      "Old resolution: (480, 640)\n",
      "Skipping experiment folder: 17_bottom\n",
      "Jaw coords: 51 vs 57 tongue labels\n",
      "Loading experiment folder: 17_side\n",
      "Found 101 images\n"
     ]
    },
    {
     "name": "stderr",
     "output_type": "stream",
     "text": [
      "Loading:  31%|###1      | 16/51 [00:19<00:55,  1.58s/it]"
     ]
    },
    {
     "name": "stdout",
     "output_type": "stream",
     "text": [
      "Old resolution: (480, 640)\n",
      "Skipping experiment folder: 17_side\n",
      "Jaw coords: 91 vs 101 tongue labels\n",
      "Loading experiment folder: 18_bottom\n",
      "Found 23 images\n",
      "Old resolution: (480, 640)\n"
     ]
    },
    {
     "name": "stderr",
     "output_type": "stream",
     "text": [
      "Loading:  33%|###3      | 17/51 [00:19<00:45,  1.33s/it]"
     ]
    },
    {
     "name": "stdout",
     "output_type": "stream",
     "text": [
      "Loading experiment folder: 18_side\n",
      "Found 39 images\n",
      "Old resolution: (480, 640)\n"
     ]
    },
    {
     "name": "stderr",
     "output_type": "stream",
     "text": [
      "Loading:  35%|###5      | 18/51 [00:21<00:43,  1.33s/it]"
     ]
    },
    {
     "name": "stdout",
     "output_type": "stream",
     "text": [
      "Loading experiment folder: 19_bottom\n",
      "Found 21 images\n",
      "Old resolution: (480, 640)\n"
     ]
    },
    {
     "name": "stderr",
     "output_type": "stream",
     "text": [
      "Loading:  37%|###7      | 19/51 [00:21<00:36,  1.14s/it]"
     ]
    },
    {
     "name": "stdout",
     "output_type": "stream",
     "text": [
      "Loading experiment folder: 19_side\n",
      "Found 72 images\n"
     ]
    },
    {
     "name": "stderr",
     "output_type": "stream",
     "text": [
      "Loading:  39%|###9      | 20/51 [00:23<00:38,  1.23s/it]"
     ]
    },
    {
     "name": "stdout",
     "output_type": "stream",
     "text": [
      "Old resolution: (480, 640)\n",
      "Skipping experiment folder: 19_side\n",
      "Jaw coords: 59 vs 72 tongue labels\n",
      "Loading experiment folder: 1_bottom\n",
      "Found 148 images\n",
      "Old resolution: (480, 640)\n"
     ]
    },
    {
     "name": "stderr",
     "output_type": "stream",
     "text": [
      "Loading:  41%|####1     | 21/51 [00:28<01:08,  2.28s/it]"
     ]
    },
    {
     "name": "stdout",
     "output_type": "stream",
     "text": [
      "Loading experiment folder: 1_side\n",
      "Found 141 images\n",
      "Old resolution: (480, 640)\n"
     ]
    },
    {
     "name": "stderr",
     "output_type": "stream",
     "text": [
      "Loading:  43%|####3     | 22/51 [00:32<01:28,  3.05s/it]"
     ]
    },
    {
     "name": "stdout",
     "output_type": "stream",
     "text": [
      "Loading experiment folder: 20_bottom\n",
      "Found 118 images\n",
      "Old resolution: (480, 640)\n"
     ]
    },
    {
     "name": "stderr",
     "output_type": "stream",
     "text": [
      "Loading:  45%|####5     | 23/51 [00:36<01:27,  3.13s/it]"
     ]
    },
    {
     "name": "stdout",
     "output_type": "stream",
     "text": [
      "Loading experiment folder: 20_side\n",
      "Found 131 images\n",
      "Old resolution: (480, 640)\n"
     ]
    },
    {
     "name": "stderr",
     "output_type": "stream",
     "text": [
      "Loading:  47%|####7     | 24/51 [00:40<01:36,  3.56s/it]"
     ]
    },
    {
     "name": "stdout",
     "output_type": "stream",
     "text": [
      "Loading experiment folder: 21_side\n",
      "Found 40 images\n",
      "Old resolution: (480, 640)\n"
     ]
    },
    {
     "name": "stderr",
     "output_type": "stream",
     "text": [
      "Loading:  49%|####9     | 25/51 [00:41<01:13,  2.82s/it]"
     ]
    },
    {
     "name": "stdout",
     "output_type": "stream",
     "text": [
      "Loading experiment folder: 22_side\n",
      "Found 34 images\n",
      "Old resolution: (480, 640)\n"
     ]
    },
    {
     "name": "stderr",
     "output_type": "stream",
     "text": [
      "Loading:  51%|#####     | 26/51 [00:42<00:56,  2.26s/it]"
     ]
    },
    {
     "name": "stdout",
     "output_type": "stream",
     "text": [
      "Loading experiment folder: 23_side\n",
      "Found 39 images\n",
      "Old resolution: (480, 640)\n"
     ]
    },
    {
     "name": "stderr",
     "output_type": "stream",
     "text": [
      "Loading:  53%|#####2    | 27/51 [00:44<00:45,  1.92s/it]"
     ]
    },
    {
     "name": "stdout",
     "output_type": "stream",
     "text": [
      "Loading experiment folder: 24_side\n",
      "Found 29 images\n",
      "Old resolution: (480, 640)\n"
     ]
    },
    {
     "name": "stderr",
     "output_type": "stream",
     "text": [
      "Loading:  55%|#####4    | 28/51 [00:44<00:36,  1.57s/it]"
     ]
    },
    {
     "name": "stdout",
     "output_type": "stream",
     "text": [
      "Loading experiment folder: 25_side\n",
      "Found 58 images\n",
      "Old resolution: (480, 640)\n"
     ]
    },
    {
     "name": "stderr",
     "output_type": "stream",
     "text": [
      "Loading:  57%|#####6    | 29/51 [00:46<00:34,  1.59s/it]"
     ]
    },
    {
     "name": "stdout",
     "output_type": "stream",
     "text": [
      "Loading experiment folder: 26_side\n",
      "Found 1001 images\n",
      "Old resolution: (480, 640)\n"
     ]
    },
    {
     "name": "stderr",
     "output_type": "stream",
     "text": [
      "Loading:  59%|#####8    | 30/51 [01:14<03:19,  9.51s/it]"
     ]
    },
    {
     "name": "stdout",
     "output_type": "stream",
     "text": [
      "Loading experiment folder: 27_side\n",
      "Found 68 images\n",
      "Old resolution: (480, 640)\n"
     ]
    },
    {
     "name": "stderr",
     "output_type": "stream",
     "text": [
      "Loading:  61%|######    | 31/51 [01:16<02:24,  7.23s/it]"
     ]
    },
    {
     "name": "stdout",
     "output_type": "stream",
     "text": [
      "Loading experiment folder: 2_bottom\n",
      "Found 60 images\n",
      "Old resolution: (480, 640)\n"
     ]
    },
    {
     "name": "stderr",
     "output_type": "stream",
     "text": [
      "Loading:  63%|######2   | 32/51 [01:18<01:46,  5.59s/it]"
     ]
    },
    {
     "name": "stdout",
     "output_type": "stream",
     "text": [
      "Loading experiment folder: 2_side\n",
      "Found 121 images\n",
      "Old resolution: (480, 640)\n"
     ]
    },
    {
     "name": "stderr",
     "output_type": "stream",
     "text": [
      "Loading:  65%|######4   | 33/51 [01:21<01:29,  4.99s/it]"
     ]
    },
    {
     "name": "stdout",
     "output_type": "stream",
     "text": [
      "Loading experiment folder: 3_bottom\n",
      "Found 78 images\n",
      "Old resolution: (480, 640)\n"
     ]
    },
    {
     "name": "stderr",
     "output_type": "stream",
     "text": [
      "Loading:  67%|######6   | 34/51 [01:24<01:11,  4.20s/it]"
     ]
    },
    {
     "name": "stdout",
     "output_type": "stream",
     "text": [
      "Loading experiment folder: 3_side\n",
      "Found 74 images\n",
      "Old resolution: (480, 640)\n"
     ]
    },
    {
     "name": "stderr",
     "output_type": "stream",
     "text": [
      "Loading:  69%|######8   | 35/51 [01:26<00:57,  3.59s/it]"
     ]
    },
    {
     "name": "stdout",
     "output_type": "stream",
     "text": [
      "Loading experiment folder: 4_bottom\n",
      "Found 108 images\n",
      "Old resolution: (480, 640)\n"
     ]
    },
    {
     "name": "stderr",
     "output_type": "stream",
     "text": [
      "Loading:  71%|#######   | 36/51 [01:29<00:52,  3.47s/it]"
     ]
    },
    {
     "name": "stdout",
     "output_type": "stream",
     "text": [
      "Loading experiment folder: 4_side\n",
      "Found 129 images\n",
      "Old resolution: (480, 640)\n"
     ]
    },
    {
     "name": "stderr",
     "output_type": "stream",
     "text": [
      "Loading:  73%|#######2  | 37/51 [01:33<00:50,  3.64s/it]"
     ]
    },
    {
     "name": "stdout",
     "output_type": "stream",
     "text": [
      "Loading experiment folder: 5_bottom\n",
      "Found 52 images\n",
      "Old resolution: (480, 640)\n"
     ]
    },
    {
     "name": "stderr",
     "output_type": "stream",
     "text": [
      "Loading:  75%|#######4  | 38/51 [01:34<00:39,  3.01s/it]"
     ]
    },
    {
     "name": "stdout",
     "output_type": "stream",
     "text": [
      "Loading experiment folder: 5_side\n",
      "Found 66 images\n",
      "Old resolution: (480, 640)\n"
     ]
    },
    {
     "name": "stderr",
     "output_type": "stream",
     "text": [
      "Loading:  76%|#######6  | 39/51 [01:36<00:32,  2.68s/it]"
     ]
    },
    {
     "name": "stdout",
     "output_type": "stream",
     "text": [
      "Loading experiment folder: 6_bottom\n",
      "Found 36 images\n",
      "Old resolution: (480, 640)\n"
     ]
    },
    {
     "name": "stderr",
     "output_type": "stream",
     "text": [
      "Loading:  78%|#######8  | 40/51 [01:37<00:24,  2.20s/it]"
     ]
    },
    {
     "name": "stdout",
     "output_type": "stream",
     "text": [
      "Loading experiment folder: 6_side\n",
      "Found 32 images\n",
      "Old resolution: (480, 640)\n"
     ]
    },
    {
     "name": "stderr",
     "output_type": "stream",
     "text": [
      "Loading:  80%|########  | 41/51 [01:38<00:18,  1.82s/it]"
     ]
    },
    {
     "name": "stdout",
     "output_type": "stream",
     "text": [
      "Loading experiment folder: 7_bottom\n",
      "Found 40 images\n",
      "Old resolution: (480, 640)\n"
     ]
    },
    {
     "name": "stderr",
     "output_type": "stream",
     "text": [
      "Loading:  82%|########2 | 42/51 [01:40<00:14,  1.63s/it]"
     ]
    },
    {
     "name": "stdout",
     "output_type": "stream",
     "text": [
      "Loading experiment folder: 7_side\n",
      "Found 46 images\n",
      "Old resolution: (480, 640)\n"
     ]
    },
    {
     "name": "stderr",
     "output_type": "stream",
     "text": [
      "Loading:  84%|########4 | 43/51 [01:41<00:12,  1.55s/it]"
     ]
    },
    {
     "name": "stdout",
     "output_type": "stream",
     "text": [
      "Loading experiment folder: 8_bottom\n",
      "Found 41 images\n",
      "Old resolution: (480, 640)\n"
     ]
    },
    {
     "name": "stderr",
     "output_type": "stream",
     "text": [
      "Loading:  86%|########6 | 44/51 [01:42<00:10,  1.45s/it]"
     ]
    },
    {
     "name": "stdout",
     "output_type": "stream",
     "text": [
      "Loading experiment folder: 8_side\n",
      "Found 36 images\n",
      "Old resolution: (480, 640)\n"
     ]
    },
    {
     "name": "stderr",
     "output_type": "stream",
     "text": [
      "Loading:  88%|########8 | 45/51 [01:43<00:08,  1.37s/it]"
     ]
    },
    {
     "name": "stdout",
     "output_type": "stream",
     "text": [
      "Loading experiment folder: 9_bottom\n",
      "Found 79 images\n",
      "Old resolution: (480, 640)\n"
     ]
    },
    {
     "name": "stderr",
     "output_type": "stream",
     "text": [
      "Loading:  90%|######### | 46/51 [01:46<00:08,  1.73s/it]"
     ]
    },
    {
     "name": "stdout",
     "output_type": "stream",
     "text": [
      "Loading experiment folder: 9_side\n",
      "Found 50 images\n",
      "Old resolution: (480, 640)\n"
     ]
    },
    {
     "name": "stderr",
     "output_type": "stream",
     "text": [
      "Loading:  92%|#########2| 47/51 [01:47<00:06,  1.68s/it]"
     ]
    },
    {
     "name": "stdout",
     "output_type": "stream",
     "text": [
      "Loading experiment folder: IRt01_20250515_Bottom\n",
      "Found 10 images\n",
      "Old resolution: (480, 640)\n"
     ]
    },
    {
     "name": "stderr",
     "output_type": "stream",
     "text": [
      "Loading:  94%|#########4| 48/51 [01:48<00:03,  1.27s/it]"
     ]
    },
    {
     "name": "stdout",
     "output_type": "stream",
     "text": [
      "Loading experiment folder: IRt01_20250515_Side\n",
      "Found 10 images\n",
      "Old resolution: (480, 640)\n"
     ]
    },
    {
     "name": "stderr",
     "output_type": "stream",
     "text": [
      "Loading:  96%|#########6| 49/51 [01:48<00:01,  1.04it/s]"
     ]
    },
    {
     "name": "stdout",
     "output_type": "stream",
     "text": [
      "Loading experiment folder: PCRt07_20250403_Bottom\n",
      "Found 10 images\n",
      "Old resolution: (480, 640)\n"
     ]
    },
    {
     "name": "stderr",
     "output_type": "stream",
     "text": [
      "Loading:  98%|#########8| 50/51 [01:48<00:00,  1.32it/s]"
     ]
    },
    {
     "name": "stdout",
     "output_type": "stream",
     "text": [
      "Loading experiment folder: PCRt07_20250403_Side\n",
      "Found 10 images\n",
      "Old resolution: (480, 640)\n"
     ]
    },
    {
     "name": "stderr",
     "output_type": "stream",
     "text": [
      "Loading: 100%|##########| 51/51 [01:49<00:00,  2.14s/it]\n"
     ]
    }
   ],
   "source": [
    "from licking_data_parser import load_licking_data\n",
    "\n",
    "training_images, training_image_filenames, training_labels = load_licking_data(\n",
    "    data_folder,\n",
    "    target_resolution=new_resolution,\n",
    "    csv_delimiter=' ',  # Default delimiter, will auto-detect others\n",
    "    csv_has_header=True,\n",
    "    original_resolution=(480, 640),\n",
    "    gaussian_sigma=(25, 25),\n",
    "    load_all_images=True,  # This ensures missing labels are padded with zeros/NaN\n",
    "    return_numpy=False  # Keep as lists for now to match existing code structure\n",
    ")"
   ]
  },
  {
   "cell_type": "code",
   "execution_count": 8,
   "id": "a76a5b01",
   "metadata": {},
   "outputs": [
    {
     "name": "stdout",
     "output_type": "stream",
     "text": [
      "Number of empty labels: 1987\n",
      "Total images: 3472\n"
     ]
    }
   ],
   "source": [
    "count = 0\n",
    "for label in training_labels[0]:\n",
    "    if label is not None and hasattr(label, 'sum'):\n",
    "        if np.sum(label) == 0:\n",
    "            count += 1\n",
    "print(\"Number of empty labels:\", count)\n",
    "print(f'Total images: {len(training_images)}')"
   ]
  },
  {
   "cell_type": "code",
   "execution_count": null,
   "id": "274ae126",
   "metadata": {},
   "outputs": [
    {
     "name": "stderr",
     "output_type": "stream",
     "text": [
      "Loading:   0%|          | 0/4 [00:00<?, ?it/s]"
     ]
    },
    {
     "name": "stdout",
     "output_type": "stream",
     "text": [
      "Loading experiment folder: IRt01_20250515_Bottom\n"
     ]
    },
    {
     "name": "stderr",
     "output_type": "stream",
     "text": [
      "Loading:   0%|          | 0/4 [00:00<?, ?it/s]"
     ]
    },
    {
     "name": "stdout",
     "output_type": "stream",
     "text": [
      "Old resolution: (480, 640)\n"
     ]
    },
    {
     "name": "stderr",
     "output_type": "stream",
     "text": [
      "\n"
     ]
    },
    {
     "ename": "ValueError",
     "evalue": "invalid literal for int() with base 10: '416.482'",
     "output_type": "error",
     "traceback": [
      "\u001b[31m---------------------------------------------------------------------------\u001b[39m",
      "\u001b[31mValueError\u001b[39m                                Traceback (most recent call last)",
      "\u001b[36mCell\u001b[39m\u001b[36m \u001b[39m\u001b[32mIn[11]\u001b[39m\u001b[32m, line 75\u001b[39m\n\u001b[32m     73\u001b[39m reader = csv.reader(file, delimiter=\u001b[33m'\u001b[39m\u001b[33m \u001b[39m\u001b[33m'\u001b[39m)\n\u001b[32m     74\u001b[39m \u001b[38;5;28;01mfor\u001b[39;00m row \u001b[38;5;129;01min\u001b[39;00m reader:\n\u001b[32m---> \u001b[39m\u001b[32m75\u001b[39m     x = \u001b[38;5;28;43mint\u001b[39;49m\u001b[43m(\u001b[49m\u001b[43mrow\u001b[49m\u001b[43m[\u001b[49m\u001b[32;43m1\u001b[39;49m\u001b[43m]\u001b[49m\u001b[43m)\u001b[49m\n\u001b[32m     76\u001b[39m     y = \u001b[38;5;28mint\u001b[39m(row[\u001b[32m2\u001b[39m])\n\u001b[32m     77\u001b[39m     jaw_coords[\u001b[38;5;28mint\u001b[39m(row[\u001b[32m0\u001b[39m])]=[x,y]\n",
      "\u001b[31mValueError\u001b[39m: invalid literal for int() with base 10: '416.482'"
     ]
    }
   ],
   "source": [
    "# OLD VERSION - KEPT FOR REFERENCE\n",
    "# This is the original long data loading script that has been refactored into licking_data_parser.py\n",
    "# This cell can be deleted once the new version is confirmed to work properly\n",
    "\n",
    "experiment_folders = [filename for filename in os.listdir(data_folder) if os.path.isdir(os.path.join(data_folder,filename))]\n",
    "\n",
    "iterable = enumerate(experiment_folders)\n",
    "progress = tqdm(iterable, desc='Loading', total=len(experiment_folders), ascii=True, leave=True, position=0)\n",
    "iterable = progress\n",
    "\n",
    "training_images = []\n",
    "training_image_filenames = []\n",
    "training_labels = [[] for i in range(n_features)]\n",
    "\n",
    "for i,experiment_folder in iterable:\n",
    "\n",
    "    experiment_images = []\n",
    "    experiment_image_filenames = []\n",
    "    experiment_labels = [[] for j in range(n_features)]\n",
    "\n",
    "    print('Loading experiment folder: {}'.format(experiment_folder))\n",
    "    \n",
    "    label_folders = os.listdir(os.path.join(data_folder, experiment_folder,'labels'))\n",
    "    #Check if label folders contains folders with names between 0 and n_whisker-1\n",
    "    if len(label_folders) is not n_features:\n",
    "        print('Skipping experiment folder: {}'.format(experiment_folder))\n",
    "        print(f'Contains {label_folders}')\n",
    "        continue\n",
    "\n",
    "    img_folder = os.path.join(data_folder, experiment_folder,'images')\n",
    "\n",
    "    image_paths = [os.path.join(img_folder, img) for img in os.listdir(img_folder)]\n",
    "\n",
    "    for image_path in image_paths:\n",
    "        image = cv2.imread(image_path)\n",
    "\n",
    "        try:\n",
    "            image_resized = cv2.resize(image, new_resolution, interpolation=cv2.INTER_AREA)\n",
    "        except:\n",
    "            print(image_path)\n",
    "        \n",
    "        experiment_image_filenames.append(image_path)\n",
    "        experiment_images.append(image_resized)\n",
    "        \n",
    "    old_resolution = (image.shape[0], image.shape[1])\n",
    "    print(f'Old resolution: {old_resolution}')\n",
    "    \n",
    "    img_names = [img.split('/')[-1] for img in image_paths]\n",
    "\n",
    "    #Remove scene prefix and .png suffix if present\n",
    "    if img_names[0].endswith('.png'):\n",
    "        img_names = [img[:-4] for img in img_names]\n",
    "\n",
    "    if img_names[0].startswith('scene'):\n",
    "        img_nums = [img[5:] for img in img_names]\n",
    "    else:\n",
    "        img_nums = [img for img in img_names]\n",
    "    \n",
    "    #Load in labels\n",
    "    #Each label folder contains a different whisker\n",
    "    #Different whiskers should be a different dimension in the label array\n",
    "\n",
    "    tongue_folder = os.path.join(data_folder, experiment_folder,'labels', 'tongue')\n",
    "    tongue_label_paths = [os.path.join(tongue_folder, img_name + '.png') for img_name in img_names]\n",
    "\n",
    "    jaw_folder = tongue_folder = os.path.join(data_folder, experiment_folder,'labels', 'jaw')\n",
    "    \n",
    "    #Find jaw csv file in jaw_folder\n",
    "    jaw_csv_file = list(filter(lambda f: f.endswith('.csv'), os.listdir(jaw_folder)))[0]\n",
    "    \n",
    "    jaw_coords = {}\n",
    "    with open(os.path.join(jaw_folder,jaw_csv_file), mode='r') as file:\n",
    "    \n",
    "        #skip header\n",
    "        next(file)\n",
    "        reader = csv.reader(file, delimiter=' ')\n",
    "        for row in reader:\n",
    "            x = int(row[1])\n",
    "            y = int(row[2])\n",
    "            jaw_coords[int(row[0])]=[x,y]\n",
    "    \n",
    "    if len(jaw_coords) != len(tongue_label_paths):\n",
    "        print('Skipping experiment folder: {}'.format(experiment_folder))\n",
    "        print(f'Jaw coords: {len(jaw_coords)} vs {len(tongue_label_paths)} tongue labels')\n",
    "        continue\n",
    "\n",
    "    for label in tongue_label_paths:\n",
    "        mask = cv2.imread(label,cv2.IMREAD_GRAYSCALE)\n",
    "        mask = cv2.resize(mask, new_resolution)\n",
    "        mask = mask > 0\n",
    "        experiment_labels[0].append(mask)\n",
    "        \n",
    "    for frame in img_nums:        \n",
    "        jaw_mask = image_manip.create_gaussian_mask((480,640),new_resolution,jaw_coords[int(frame)],(25,25))\n",
    "\n",
    "        #Jaw mask needs to be uint8\n",
    "        jaw_mask = jaw_mask * 255\n",
    "        jaw_mask = jaw_mask.astype(np.uint8)\n",
    "        experiment_labels[1].append(jaw_mask)\n",
    "        \n",
    "            \n",
    "    training_images.extend(experiment_images)\n",
    "    training_image_filenames.extend(experiment_image_filenames)\n",
    "    for i in range(n_features):\n",
    "        training_labels[i].extend(experiment_labels[i])"
   ]
  },
  {
   "cell_type": "code",
   "execution_count": null,
   "id": "849062983e8941d5",
   "metadata": {},
   "outputs": [],
   "source": [
    "def convert_img_numpy(images):\n",
    "    \"\"\"Convert list of images to numpy array\"\"\"\n",
    "    images_np = np.stack(images)\n",
    "    return images_np\n",
    "\n",
    "def transpose_label_list(labels):\n",
    "    \"\"\"Transpose label list structure\"\"\"\n",
    "    return list(map(list,zip(*labels)))\n",
    "\n",
    "# Convert training_labels from list format to expected format for subsequent cells\n",
    "# training_labels is currently [tongue_masks_list, jaw_masks_list]\n",
    "# We need it compatible with the existing downstream code\n",
    "print(f\"Loaded {len(training_images)} images\")\n",
    "print(f\"Tongue masks: {len(training_labels[0])}\")  \n",
    "print(f\"Jaw masks: {len(training_labels[1])}\")\n",
    "\n",
    "# Ensure training_labels has the right structure for downstream processing\n",
    "if training_labels and len(training_labels) == 2:\n",
    "    print(\"Data loaded successfully with new parser!\")"
   ]
  },
  {
   "cell_type": "code",
   "execution_count": 15,
   "id": "92aa7ffd",
   "metadata": {},
   "outputs": [],
   "source": [
    "shuffled_indexes = [*range(0, len(training_images), 1)]\n",
    "\n",
    "random.Random(random_seed_value).shuffle(shuffled_indexes)\n",
    "\n",
    "training_indexes = shuffled_indexes[:int(len(shuffled_indexes)*train_split)]\n",
    "testing_indexes = shuffled_indexes[int(len(shuffled_indexes)*train_split):]"
   ]
  },
  {
   "cell_type": "code",
   "execution_count": 16,
   "id": "54dc2b67",
   "metadata": {},
   "outputs": [],
   "source": [
    "images_np = np.stack(training_images)\n",
    "labels_np = np.moveaxis(np.stack(training_labels),[0],[-1])\n",
    "\n",
    "with open(data_folder + 'training_data.pkl', 'wb') as handle:\n",
    "    pickle.dump((images_np[training_indexes,:,:,:],\n",
    "                labels_np[training_indexes,:,:]),handle)\n",
    "\n",
    "with open(data_folder + 'testing_data.pkl', 'wb') as handle:\n",
    "    pickle.dump((images_np[testing_indexes,:,:,:],\n",
    "                labels_np[testing_indexes,:,:]), handle)"
   ]
  },
  {
   "cell_type": "code",
   "execution_count": 1,
   "id": "f3f4628c",
   "metadata": {},
   "outputs": [
    {
     "ename": "NameError",
     "evalue": "name 'plt' is not defined",
     "output_type": "error",
     "traceback": [
      "\u001b[31m---------------------------------------------------------------------------\u001b[39m",
      "\u001b[31mNameError\u001b[39m                                 Traceback (most recent call last)",
      "\u001b[36mCell\u001b[39m\u001b[36m \u001b[39m\u001b[32mIn[1]\u001b[39m\u001b[32m, line 1\u001b[39m\n\u001b[32m----> \u001b[39m\u001b[32m1\u001b[39m \u001b[43mplt\u001b[49m.imshow(labels_np[\u001b[32m1\u001b[39m, :, :, \u001b[32m0\u001b[39m], cmap=\u001b[33m'\u001b[39m\u001b[33mgray\u001b[39m\u001b[33m'\u001b[39m)\n\u001b[32m      2\u001b[39m plt.colorbar()\n",
      "\u001b[31mNameError\u001b[39m: name 'plt' is not defined"
     ]
    }
   ],
   "source": [
    "plt.imshow(labels_np[1, :, :, 0], cmap='gray')\n",
    "plt.colorbar()"
   ]
  },
  {
   "cell_type": "code",
   "execution_count": 12,
   "id": "c656a30f",
   "metadata": {},
   "outputs": [],
   "source": [
    "import matplotlib.pyplot as plt"
   ]
  },
  {
   "cell_type": "code",
   "execution_count": 46,
   "id": "add41532",
   "metadata": {},
   "outputs": [
    {
     "data": {
      "text/plain": [
       "<matplotlib.colorbar.Colorbar at 0x7d1f67c76f10>"
      ]
     },
     "execution_count": 46,
     "metadata": {},
     "output_type": "execute_result"
    },
    {
     "data": {
      "image/png": "[encoded data removed]",
      "text/plain": [
       "<Figure size 640x480 with 2 Axes>"
      ]
     },
     "metadata": {},
     "output_type": "display_data"
    }
   ],
   "source": [
    "plt.imshow(labels_np[9, :, :, 1])\n",
    "plt.colorbar()"
   ]
  },
  {
   "cell_type": "code",
   "execution_count": null,
   "id": "7f686eeb",
   "metadata": {},
   "outputs": [
    {
     "ename": "TypeError",
     "evalue": "expected str, bytes or os.PathLike object, not list",
     "output_type": "error",
     "traceback": [
      "\u001b[31m---------------------------------------------------------------------------\u001b[39m",
      "\u001b[31mTypeError\u001b[39m                                 Traceback (most recent call last)",
      "\u001b[36mCell\u001b[39m\u001b[36m \u001b[39m\u001b[32mIn[51]\u001b[39m\u001b[32m, line 1\u001b[39m\n\u001b[32m----> \u001b[39m\u001b[32m1\u001b[39m \u001b[43mos\u001b[49m\u001b[43m.\u001b[49m\u001b[43mpath\u001b[49m\u001b[43m.\u001b[49m\u001b[43mbasename\u001b[49m\u001b[43m(\u001b[49m\u001b[43mtraining_image_filenames\u001b[49m\u001b[43m)\u001b[49m\n",
      "\u001b[36mFile \u001b[39m\u001b[32m<frozen posixpath>:142\u001b[39m, in \u001b[36mbasename\u001b[39m\u001b[34m(p)\u001b[39m\n",
      "\u001b[31mTypeError\u001b[39m: expected str, bytes or os.PathLike object, not list"
     ]
    }
   ],
   "source": [
    "os.path.basename(Path(training_image_filenames)"
   ]
  },
  {
   "cell_type": "code",
   "execution_count": 8,
   "id": "bd1fdd6e",
   "metadata": {},
   "outputs": [
    {
     "ename": "KeyboardInterrupt",
     "evalue": "",
     "output_type": "error",
     "traceback": [
      "\u001b[31m---------------------------------------------------------------------------\u001b[39m",
      "\u001b[31mAttributeError\u001b[39m                            Traceback (most recent call last)",
      "\u001b[36mFile \u001b[39m\u001b[32m~/miniconda3/envs/tf-wsl/lib/python3.11/site-packages/PIL/ImageFile.py:644\u001b[39m, in \u001b[36m_save\u001b[39m\u001b[34m(im, fp, tile, bufsize)\u001b[39m\n\u001b[32m    643\u001b[39m \u001b[38;5;28;01mtry\u001b[39;00m:\n\u001b[32m--> \u001b[39m\u001b[32m644\u001b[39m     fh = \u001b[43mfp\u001b[49m\u001b[43m.\u001b[49m\u001b[43mfileno\u001b[49m()\n\u001b[32m    645\u001b[39m     fp.flush()\n",
      "\u001b[31mAttributeError\u001b[39m: '_idat' object has no attribute 'fileno'",
      "\nDuring handling of the above exception, another exception occurred:\n",
      "\u001b[31mKeyboardInterrupt\u001b[39m                         Traceback (most recent call last)",
      "\u001b[36mCell\u001b[39m\u001b[36m \u001b[39m\u001b[32mIn[8]\u001b[39m\u001b[32m, line 14\u001b[39m\n\u001b[32m      9\u001b[39m norm_label[:,:,\u001b[32m1\u001b[39m] = norm_label[:,:,\u001b[32m1\u001b[39m] / \u001b[32m255.0\u001b[39m\n\u001b[32m     10\u001b[39m myax.imshow(plotting.combine_overlay(img / \u001b[32m255\u001b[39m,\n\u001b[32m     11\u001b[39m                                 norm_label,\n\u001b[32m     12\u001b[39m                                 label_color=[[\u001b[32m1\u001b[39m, \u001b[32m0\u001b[39m, \u001b[32m0\u001b[39m], [\u001b[32m0\u001b[39m, \u001b[32m1\u001b[39m, \u001b[32m0\u001b[39m]],\n\u001b[32m     13\u001b[39m                                 label_threshold=\u001b[32m0.1\u001b[39m))\n\u001b[32m---> \u001b[39m\u001b[32m14\u001b[39m \u001b[43mmyfig\u001b[49m\u001b[43m.\u001b[49m\u001b[43msavefig\u001b[49m\u001b[43m(\u001b[49m\u001b[43mos\u001b[49m\u001b[43m.\u001b[49m\u001b[43mpath\u001b[49m\u001b[43m.\u001b[49m\u001b[43mjoin\u001b[49m\u001b[43m(\u001b[49m\u001b[43moutput_folder\u001b[49m\u001b[43m,\u001b[49m\u001b[43m \u001b[49m\u001b[43mos\u001b[49m\u001b[43m.\u001b[49m\u001b[43mpath\u001b[49m\u001b[43m.\u001b[49m\u001b[43mbasename\u001b[49m\u001b[43m(\u001b[49m\u001b[43mfilename\u001b[49m\u001b[43m)\u001b[49m\u001b[43m \u001b[49m\u001b[43m+\u001b[49m\u001b[43m \u001b[49m\u001b[33;43m'\u001b[39;49m\u001b[33;43m_overlay.png\u001b[39;49m\u001b[33;43m'\u001b[39;49m\u001b[43m)\u001b[49m\u001b[43m)\u001b[49m\n\u001b[32m     15\u001b[39m myax.clear()\n\u001b[32m     16\u001b[39m i += \u001b[32m1\u001b[39m\n",
      "\u001b[36mFile \u001b[39m\u001b[32m~/miniconda3/envs/tf-wsl/lib/python3.11/site-packages/matplotlib/figure.py:3490\u001b[39m, in \u001b[36mFigure.savefig\u001b[39m\u001b[34m(self, fname, transparent, **kwargs)\u001b[39m\n\u001b[32m   3488\u001b[39m     \u001b[38;5;28;01mfor\u001b[39;00m ax \u001b[38;5;129;01min\u001b[39;00m \u001b[38;5;28mself\u001b[39m.axes:\n\u001b[32m   3489\u001b[39m         _recursively_make_axes_transparent(stack, ax)\n\u001b[32m-> \u001b[39m\u001b[32m3490\u001b[39m \u001b[38;5;28;43mself\u001b[39;49m\u001b[43m.\u001b[49m\u001b[43mcanvas\u001b[49m\u001b[43m.\u001b[49m\u001b[43mprint_figure\u001b[49m\u001b[43m(\u001b[49m\u001b[43mfname\u001b[49m\u001b[43m,\u001b[49m\u001b[43m \u001b[49m\u001b[43m*\u001b[49m\u001b[43m*\u001b[49m\u001b[43mkwargs\u001b[49m\u001b[43m)\u001b[49m\n",
      "\u001b[36mFile \u001b[39m\u001b[32m~/miniconda3/envs/tf-wsl/lib/python3.11/site-packages/matplotlib/backend_bases.py:2184\u001b[39m, in \u001b[36mFigureCanvasBase.print_figure\u001b[39m\u001b[34m(self, filename, dpi, facecolor, edgecolor, orientation, format, bbox_inches, pad_inches, bbox_extra_artists, backend, **kwargs)\u001b[39m\n\u001b[32m   2180\u001b[39m \u001b[38;5;28;01mtry\u001b[39;00m:\n\u001b[32m   2181\u001b[39m     \u001b[38;5;66;03m# _get_renderer may change the figure dpi (as vector formats\u001b[39;00m\n\u001b[32m   2182\u001b[39m     \u001b[38;5;66;03m# force the figure dpi to 72), so we need to set it again here.\u001b[39;00m\n\u001b[32m   2183\u001b[39m     \u001b[38;5;28;01mwith\u001b[39;00m cbook._setattr_cm(\u001b[38;5;28mself\u001b[39m.figure, dpi=dpi):\n\u001b[32m-> \u001b[39m\u001b[32m2184\u001b[39m         result = \u001b[43mprint_method\u001b[49m\u001b[43m(\u001b[49m\n\u001b[32m   2185\u001b[39m \u001b[43m            \u001b[49m\u001b[43mfilename\u001b[49m\u001b[43m,\u001b[49m\n\u001b[32m   2186\u001b[39m \u001b[43m            \u001b[49m\u001b[43mfacecolor\u001b[49m\u001b[43m=\u001b[49m\u001b[43mfacecolor\u001b[49m\u001b[43m,\u001b[49m\n\u001b[32m   2187\u001b[39m \u001b[43m            \u001b[49m\u001b[43medgecolor\u001b[49m\u001b[43m=\u001b[49m\u001b[43medgecolor\u001b[49m\u001b[43m,\u001b[49m\n\u001b[32m   2188\u001b[39m \u001b[43m            \u001b[49m\u001b[43morientation\u001b[49m\u001b[43m=\u001b[49m\u001b[43morientation\u001b[49m\u001b[43m,\u001b[49m\n\u001b[32m   2189\u001b[39m \u001b[43m            \u001b[49m\u001b[43mbbox_inches_restore\u001b[49m\u001b[43m=\u001b[49m\u001b[43m_bbox_inches_restore\u001b[49m\u001b[43m,\u001b[49m\n\u001b[32m   2190\u001b[39m \u001b[43m            \u001b[49m\u001b[43m*\u001b[49m\u001b[43m*\u001b[49m\u001b[43mkwargs\u001b[49m\u001b[43m)\u001b[49m\n\u001b[32m   2191\u001b[39m \u001b[38;5;28;01mfinally\u001b[39;00m:\n\u001b[32m   2192\u001b[39m     \u001b[38;5;28;01mif\u001b[39;00m bbox_inches \u001b[38;5;129;01mand\u001b[39;00m restore_bbox:\n",
      "\u001b[36mFile \u001b[39m\u001b[32m~/miniconda3/envs/tf-wsl/lib/python3.11/site-packages/matplotlib/backend_bases.py:2040\u001b[39m, in \u001b[36mFigureCanvasBase._switch_canvas_and_return_print_method.<locals>.<lambda>\u001b[39m\u001b[34m(*args, **kwargs)\u001b[39m\n\u001b[32m   2036\u001b[39m     optional_kws = {  \u001b[38;5;66;03m# Passed by print_figure for other renderers.\u001b[39;00m\n\u001b[32m   2037\u001b[39m         \u001b[33m\"\u001b[39m\u001b[33mdpi\u001b[39m\u001b[33m\"\u001b[39m, \u001b[33m\"\u001b[39m\u001b[33mfacecolor\u001b[39m\u001b[33m\"\u001b[39m, \u001b[33m\"\u001b[39m\u001b[33medgecolor\u001b[39m\u001b[33m\"\u001b[39m, \u001b[33m\"\u001b[39m\u001b[33morientation\u001b[39m\u001b[33m\"\u001b[39m,\n\u001b[32m   2038\u001b[39m         \u001b[33m\"\u001b[39m\u001b[33mbbox_inches_restore\u001b[39m\u001b[33m\"\u001b[39m}\n\u001b[32m   2039\u001b[39m     skip = optional_kws - {*inspect.signature(meth).parameters}\n\u001b[32m-> \u001b[39m\u001b[32m2040\u001b[39m     print_method = functools.wraps(meth)(\u001b[38;5;28;01mlambda\u001b[39;00m *args, **kwargs: \u001b[43mmeth\u001b[49m\u001b[43m(\u001b[49m\n\u001b[32m   2041\u001b[39m \u001b[43m        \u001b[49m\u001b[43m*\u001b[49m\u001b[43margs\u001b[49m\u001b[43m,\u001b[49m\u001b[43m \u001b[49m\u001b[43m*\u001b[49m\u001b[43m*\u001b[49m\u001b[43m{\u001b[49m\u001b[43mk\u001b[49m\u001b[43m:\u001b[49m\u001b[43m \u001b[49m\u001b[43mv\u001b[49m\u001b[43m \u001b[49m\u001b[38;5;28;43;01mfor\u001b[39;49;00m\u001b[43m \u001b[49m\u001b[43mk\u001b[49m\u001b[43m,\u001b[49m\u001b[43m \u001b[49m\u001b[43mv\u001b[49m\u001b[43m \u001b[49m\u001b[38;5;129;43;01min\u001b[39;49;00m\u001b[43m \u001b[49m\u001b[43mkwargs\u001b[49m\u001b[43m.\u001b[49m\u001b[43mitems\u001b[49m\u001b[43m(\u001b[49m\u001b[43m)\u001b[49m\u001b[43m \u001b[49m\u001b[38;5;28;43;01mif\u001b[39;49;00m\u001b[43m \u001b[49m\u001b[43mk\u001b[49m\u001b[43m \u001b[49m\u001b[38;5;129;43;01mnot\u001b[39;49;00m\u001b[43m \u001b[49m\u001b[38;5;129;43;01min\u001b[39;49;00m\u001b[43m \u001b[49m\u001b[43mskip\u001b[49m\u001b[43m}\u001b[49m\u001b[43m)\u001b[49m)\n\u001b[32m   2042\u001b[39m \u001b[38;5;28;01melse\u001b[39;00m:  \u001b[38;5;66;03m# Let third-parties do as they see fit.\u001b[39;00m\n\u001b[32m   2043\u001b[39m     print_method = meth\n",
      "\u001b[36mFile \u001b[39m\u001b[32m~/miniconda3/envs/tf-wsl/lib/python3.11/site-packages/matplotlib/backends/backend_agg.py:481\u001b[39m, in \u001b[36mFigureCanvasAgg.print_png\u001b[39m\u001b[34m(self, filename_or_obj, metadata, pil_kwargs)\u001b[39m\n\u001b[32m    434\u001b[39m \u001b[38;5;28;01mdef\u001b[39;00m\u001b[38;5;250m \u001b[39m\u001b[34mprint_png\u001b[39m(\u001b[38;5;28mself\u001b[39m, filename_or_obj, *, metadata=\u001b[38;5;28;01mNone\u001b[39;00m, pil_kwargs=\u001b[38;5;28;01mNone\u001b[39;00m):\n\u001b[32m    435\u001b[39m \u001b[38;5;250m    \u001b[39m\u001b[33;03m\"\"\"\u001b[39;00m\n\u001b[32m    436\u001b[39m \u001b[33;03m    Write the figure to a PNG file.\u001b[39;00m\n\u001b[32m    437\u001b[39m \n\u001b[32m   (...)\u001b[39m\u001b[32m    479\u001b[39m \u001b[33;03m        *metadata*, including the default 'Software' key.\u001b[39;00m\n\u001b[32m    480\u001b[39m \u001b[33;03m    \"\"\"\u001b[39;00m\n\u001b[32m--> \u001b[39m\u001b[32m481\u001b[39m     \u001b[38;5;28;43mself\u001b[39;49m\u001b[43m.\u001b[49m\u001b[43m_print_pil\u001b[49m\u001b[43m(\u001b[49m\u001b[43mfilename_or_obj\u001b[49m\u001b[43m,\u001b[49m\u001b[43m \u001b[49m\u001b[33;43m\"\u001b[39;49m\u001b[33;43mpng\u001b[39;49m\u001b[33;43m\"\u001b[39;49m\u001b[43m,\u001b[49m\u001b[43m \u001b[49m\u001b[43mpil_kwargs\u001b[49m\u001b[43m,\u001b[49m\u001b[43m \u001b[49m\u001b[43mmetadata\u001b[49m\u001b[43m)\u001b[49m\n",
      "\u001b[36mFile \u001b[39m\u001b[32m~/miniconda3/envs/tf-wsl/lib/python3.11/site-packages/matplotlib/backends/backend_agg.py:430\u001b[39m, in \u001b[36mFigureCanvasAgg._print_pil\u001b[39m\u001b[34m(self, filename_or_obj, fmt, pil_kwargs, metadata)\u001b[39m\n\u001b[32m    425\u001b[39m \u001b[38;5;250m\u001b[39m\u001b[33;03m\"\"\"\u001b[39;00m\n\u001b[32m    426\u001b[39m \u001b[33;03mDraw the canvas, then save it using `.image.imsave` (to which\u001b[39;00m\n\u001b[32m    427\u001b[39m \u001b[33;03m*pil_kwargs* and *metadata* are forwarded).\u001b[39;00m\n\u001b[32m    428\u001b[39m \u001b[33;03m\"\"\"\u001b[39;00m\n\u001b[32m    429\u001b[39m FigureCanvasAgg.draw(\u001b[38;5;28mself\u001b[39m)\n\u001b[32m--> \u001b[39m\u001b[32m430\u001b[39m \u001b[43mmpl\u001b[49m\u001b[43m.\u001b[49m\u001b[43mimage\u001b[49m\u001b[43m.\u001b[49m\u001b[43mimsave\u001b[49m\u001b[43m(\u001b[49m\n\u001b[32m    431\u001b[39m \u001b[43m    \u001b[49m\u001b[43mfilename_or_obj\u001b[49m\u001b[43m,\u001b[49m\u001b[43m \u001b[49m\u001b[38;5;28;43mself\u001b[39;49m\u001b[43m.\u001b[49m\u001b[43mbuffer_rgba\u001b[49m\u001b[43m(\u001b[49m\u001b[43m)\u001b[49m\u001b[43m,\u001b[49m\u001b[43m \u001b[49m\u001b[38;5;28;43mformat\u001b[39;49m\u001b[43m=\u001b[49m\u001b[43mfmt\u001b[49m\u001b[43m,\u001b[49m\u001b[43m \u001b[49m\u001b[43morigin\u001b[49m\u001b[43m=\u001b[49m\u001b[33;43m\"\u001b[39;49m\u001b[33;43mupper\u001b[39;49m\u001b[33;43m\"\u001b[39;49m\u001b[43m,\u001b[49m\n\u001b[32m    432\u001b[39m \u001b[43m    \u001b[49m\u001b[43mdpi\u001b[49m\u001b[43m=\u001b[49m\u001b[38;5;28;43mself\u001b[39;49m\u001b[43m.\u001b[49m\u001b[43mfigure\u001b[49m\u001b[43m.\u001b[49m\u001b[43mdpi\u001b[49m\u001b[43m,\u001b[49m\u001b[43m \u001b[49m\u001b[43mmetadata\u001b[49m\u001b[43m=\u001b[49m\u001b[43mmetadata\u001b[49m\u001b[43m,\u001b[49m\u001b[43m \u001b[49m\u001b[43mpil_kwargs\u001b[49m\u001b[43m=\u001b[49m\u001b[43mpil_kwargs\u001b[49m\u001b[43m)\u001b[49m\n",
      "\u001b[36mFile \u001b[39m\u001b[32m~/miniconda3/envs/tf-wsl/lib/python3.11/site-packages/matplotlib/image.py:1657\u001b[39m, in \u001b[36mimsave\u001b[39m\u001b[34m(fname, arr, vmin, vmax, cmap, format, origin, dpi, metadata, pil_kwargs)\u001b[39m\n\u001b[32m   1655\u001b[39m pil_kwargs.setdefault(\u001b[33m\"\u001b[39m\u001b[33mformat\u001b[39m\u001b[33m\"\u001b[39m, \u001b[38;5;28mformat\u001b[39m)\n\u001b[32m   1656\u001b[39m pil_kwargs.setdefault(\u001b[33m\"\u001b[39m\u001b[33mdpi\u001b[39m\u001b[33m\"\u001b[39m, (dpi, dpi))\n\u001b[32m-> \u001b[39m\u001b[32m1657\u001b[39m \u001b[43mimage\u001b[49m\u001b[43m.\u001b[49m\u001b[43msave\u001b[49m\u001b[43m(\u001b[49m\u001b[43mfname\u001b[49m\u001b[43m,\u001b[49m\u001b[43m \u001b[49m\u001b[43m*\u001b[49m\u001b[43m*\u001b[49m\u001b[43mpil_kwargs\u001b[49m\u001b[43m)\u001b[49m\n",
      "\u001b[36mFile \u001b[39m\u001b[32m~/miniconda3/envs/tf-wsl/lib/python3.11/site-packages/PIL/Image.py:2588\u001b[39m, in \u001b[36mImage.save\u001b[39m\u001b[34m(self, fp, format, **params)\u001b[39m\n\u001b[32m   2585\u001b[39m     fp = cast(IO[\u001b[38;5;28mbytes\u001b[39m], fp)\n\u001b[32m   2587\u001b[39m \u001b[38;5;28;01mtry\u001b[39;00m:\n\u001b[32m-> \u001b[39m\u001b[32m2588\u001b[39m     \u001b[43msave_handler\u001b[49m\u001b[43m(\u001b[49m\u001b[38;5;28;43mself\u001b[39;49m\u001b[43m,\u001b[49m\u001b[43m \u001b[49m\u001b[43mfp\u001b[49m\u001b[43m,\u001b[49m\u001b[43m \u001b[49m\u001b[43mfilename\u001b[49m\u001b[43m)\u001b[49m\n\u001b[32m   2589\u001b[39m \u001b[38;5;28;01mexcept\u001b[39;00m \u001b[38;5;167;01mException\u001b[39;00m:\n\u001b[32m   2590\u001b[39m     \u001b[38;5;28;01mif\u001b[39;00m open_fp:\n",
      "\u001b[36mFile \u001b[39m\u001b[32m~/miniconda3/envs/tf-wsl/lib/python3.11/site-packages/PIL/PngImagePlugin.py:1495\u001b[39m, in \u001b[36m_save\u001b[39m\u001b[34m(im, fp, filename, chunk, save_all)\u001b[39m\n\u001b[32m   1491\u001b[39m     single_im = _write_multiple_frames(\n\u001b[32m   1492\u001b[39m         im, fp, chunk, mode, rawmode, default_image, append_images\n\u001b[32m   1493\u001b[39m     )\n\u001b[32m   1494\u001b[39m \u001b[38;5;28;01mif\u001b[39;00m single_im:\n\u001b[32m-> \u001b[39m\u001b[32m1495\u001b[39m     \u001b[43mImageFile\u001b[49m\u001b[43m.\u001b[49m\u001b[43m_save\u001b[49m\u001b[43m(\u001b[49m\n\u001b[32m   1496\u001b[39m \u001b[43m        \u001b[49m\u001b[43msingle_im\u001b[49m\u001b[43m,\u001b[49m\n\u001b[32m   1497\u001b[39m \u001b[43m        \u001b[49m\u001b[43mcast\u001b[49m\u001b[43m(\u001b[49m\u001b[43mIO\u001b[49m\u001b[43m[\u001b[49m\u001b[38;5;28;43mbytes\u001b[39;49m\u001b[43m]\u001b[49m\u001b[43m,\u001b[49m\u001b[43m \u001b[49m\u001b[43m_idat\u001b[49m\u001b[43m(\u001b[49m\u001b[43mfp\u001b[49m\u001b[43m,\u001b[49m\u001b[43m \u001b[49m\u001b[43mchunk\u001b[49m\u001b[43m)\u001b[49m\u001b[43m)\u001b[49m\u001b[43m,\u001b[49m\n\u001b[32m   1498\u001b[39m \u001b[43m        \u001b[49m\u001b[43m[\u001b[49m\u001b[43mImageFile\u001b[49m\u001b[43m.\u001b[49m\u001b[43m_Tile\u001b[49m\u001b[43m(\u001b[49m\u001b[33;43m\"\u001b[39;49m\u001b[33;43mzip\u001b[39;49m\u001b[33;43m\"\u001b[39;49m\u001b[43m,\u001b[49m\u001b[43m \u001b[49m\u001b[43m(\u001b[49m\u001b[32;43m0\u001b[39;49m\u001b[43m,\u001b[49m\u001b[43m \u001b[49m\u001b[32;43m0\u001b[39;49m\u001b[43m)\u001b[49m\u001b[43m \u001b[49m\u001b[43m+\u001b[49m\u001b[43m \u001b[49m\u001b[43msingle_im\u001b[49m\u001b[43m.\u001b[49m\u001b[43msize\u001b[49m\u001b[43m,\u001b[49m\u001b[43m \u001b[49m\u001b[32;43m0\u001b[39;49m\u001b[43m,\u001b[49m\u001b[43m \u001b[49m\u001b[43mrawmode\u001b[49m\u001b[43m)\u001b[49m\u001b[43m]\u001b[49m\u001b[43m,\u001b[49m\n\u001b[32m   1499\u001b[39m \u001b[43m    \u001b[49m\u001b[43m)\u001b[49m\n\u001b[32m   1501\u001b[39m \u001b[38;5;28;01mif\u001b[39;00m info:\n\u001b[32m   1502\u001b[39m     \u001b[38;5;28;01mfor\u001b[39;00m info_chunk \u001b[38;5;129;01min\u001b[39;00m info.chunks:\n",
      "\u001b[36mFile \u001b[39m\u001b[32m~/miniconda3/envs/tf-wsl/lib/python3.11/site-packages/PIL/ImageFile.py:648\u001b[39m, in \u001b[36m_save\u001b[39m\u001b[34m(im, fp, tile, bufsize)\u001b[39m\n\u001b[32m    646\u001b[39m     _encode_tile(im, fp, tile, bufsize, fh)\n\u001b[32m    647\u001b[39m \u001b[38;5;28;01mexcept\u001b[39;00m (\u001b[38;5;167;01mAttributeError\u001b[39;00m, io.UnsupportedOperation) \u001b[38;5;28;01mas\u001b[39;00m exc:\n\u001b[32m--> \u001b[39m\u001b[32m648\u001b[39m     \u001b[43m_encode_tile\u001b[49m\u001b[43m(\u001b[49m\u001b[43mim\u001b[49m\u001b[43m,\u001b[49m\u001b[43m \u001b[49m\u001b[43mfp\u001b[49m\u001b[43m,\u001b[49m\u001b[43m \u001b[49m\u001b[43mtile\u001b[49m\u001b[43m,\u001b[49m\u001b[43m \u001b[49m\u001b[43mbufsize\u001b[49m\u001b[43m,\u001b[49m\u001b[43m \u001b[49m\u001b[38;5;28;43;01mNone\u001b[39;49;00m\u001b[43m,\u001b[49m\u001b[43m \u001b[49m\u001b[43mexc\u001b[49m\u001b[43m)\u001b[49m\n\u001b[32m    649\u001b[39m \u001b[38;5;28;01mif\u001b[39;00m \u001b[38;5;28mhasattr\u001b[39m(fp, \u001b[33m\"\u001b[39m\u001b[33mflush\u001b[39m\u001b[33m\"\u001b[39m):\n\u001b[32m    650\u001b[39m     fp.flush()\n",
      "\u001b[36mFile \u001b[39m\u001b[32m~/miniconda3/envs/tf-wsl/lib/python3.11/site-packages/PIL/ImageFile.py:674\u001b[39m, in \u001b[36m_encode_tile\u001b[39m\u001b[34m(im, fp, tile, bufsize, fh, exc)\u001b[39m\n\u001b[32m    671\u001b[39m \u001b[38;5;28;01mif\u001b[39;00m exc:\n\u001b[32m    672\u001b[39m     \u001b[38;5;66;03m# compress to Python file-compatible object\u001b[39;00m\n\u001b[32m    673\u001b[39m     \u001b[38;5;28;01mwhile\u001b[39;00m \u001b[38;5;28;01mTrue\u001b[39;00m:\n\u001b[32m--> \u001b[39m\u001b[32m674\u001b[39m         errcode, data = \u001b[43mencoder\u001b[49m\u001b[43m.\u001b[49m\u001b[43mencode\u001b[49m\u001b[43m(\u001b[49m\u001b[43mbufsize\u001b[49m\u001b[43m)\u001b[49m[\u001b[32m1\u001b[39m:]\n\u001b[32m    675\u001b[39m         fp.write(data)\n\u001b[32m    676\u001b[39m         \u001b[38;5;28;01mif\u001b[39;00m errcode:\n",
      "\u001b[31mKeyboardInterrupt\u001b[39m: "
     ]
    },
    {
     "data": {
      "image/png": "[encoded data removed]",
      "text/plain": [
       "<Figure size 640x480 with 1 Axes>"
      ]
     },
     "metadata": {},
     "output_type": "display_data"
    }
   ],
   "source": [
    "import matplotlib.pyplot as plt\n",
    "(myfig, myax) = plt.subplots(1,1)\n",
    "output_folder = \"test_images\"\n",
    "\n",
    "i = 0\n",
    "for img, filename in zip(training_images, training_image_filenames):\n",
    "    norm_label = labels_np[i, :, :, :].copy()\n",
    "    norm_label = norm_label.astype(np.float32)\n",
    "    norm_label[:,:,1] = norm_label[:,:,1] / 255.0\n",
    "    myax.imshow(plotting.combine_overlay(img / 255,\n",
    "                                    norm_label,\n",
    "                                    label_color=[[1, 0, 0], [0, 1, 0]],\n",
    "                                    label_threshold=0.1))\n",
    "    myfig.savefig(os.path.join(output_folder, os.path.basename(filename) + '_overlay.png'))\n",
    "    myax.clear()\n",
    "    i += 1\n",
    "    #if i >= 1100:\n",
    "    #    break"
   ]
  },
  {
   "cell_type": "code",
   "execution_count": 9,
   "id": "e16ff909",
   "metadata": {},
   "outputs": [
    {
     "data": {
      "image/png": "[encoded data removed]",
      "text/plain": [
       "<Figure size 640x480 with 1 Axes>"
      ]
     },
     "metadata": {},
     "output_type": "display_data"
    }
   ],
   "source": [
    "import matplotlib.pyplot as plt\n",
    "(myfig, myax) = plt.subplots(1,1)\n",
    "output_folder = \"test_images\"\n",
    "\n",
    "from pathlib import Path  # Add this import if not already present\n",
    "\n",
    "i = 0\n",
    "for img, filename in zip(training_images, training_image_filenames):\n",
    "    norm_label = labels_np[i, :, :, :].copy()\n",
    "    norm_label = norm_label.astype(np.float32)\n",
    "    norm_label[:,:,1] = norm_label[:,:,1] / 255.0\n",
    "\n",
    "    # Get experiment folder (grandparent of image file)\n",
    "    experiment_folder = Path(filename).parents[1].name\n",
    "\n",
    "    # Build output filename: experiment_imagename_overlay.png\n",
    "    out_name = f\"{experiment_folder}_{Path(filename).stem}_overlay.png\"\n",
    "\n",
    "    myax.imshow(plotting.combine_overlay(img / 255,\n",
    "                                         norm_label,\n",
    "                                         label_color=[[1, 0, 0], [0, 1, 0]],\n",
    "                                         label_threshold=0.1))\n",
    "    myfig.savefig(os.path.join(output_folder, out_name))\n",
    "    myax.clear()\n",
    "    i += 1\n",
    "    #if i >= 1100:\n",
    "    #    break"
   ]
  }
 ],
 "metadata": {
  "kernelspec": {
   "display_name": "tf-wsl",
   "language": "python",
   "name": "python3"
  },
  "language_info": {
   "codemirror_mode": {
    "name": "ipython",
    "version": 3
   },
   "file_extension": ".py",
   "mimetype": "text/x-python",
   "name": "python",
   "nbconvert_exporter": "python",
   "pygments_lexer": "ipython3",
   "version": "3.11.13"
  }
 },
 "nbformat": 4,
 "nbformat_minor": 5
}
